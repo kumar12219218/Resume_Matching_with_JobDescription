{
 "cells": [
  {
   "cell_type": "code",
   "execution_count": 78,
   "metadata": {},
   "outputs": [
    {
     "name": "stdout",
     "output_type": "stream",
     "text": [
      "Requirement already satisfied: docx2txt in c:\\users\\1tin\\anaconda3\\lib\\site-packages (0.8)"
     ]
    },
    {
     "name": "stderr",
     "output_type": "stream",
     "text": [
      "WARNING: Ignoring invalid distribution -umpy (c:\\users\\1tin\\anaconda3\\lib\\site-packages)\n",
      "WARNING: Ignoring invalid distribution -umpy (c:\\users\\1tin\\anaconda3\\lib\\site-packages)\n",
      "WARNING: Ignoring invalid distribution -umpy (c:\\users\\1tin\\anaconda3\\lib\\site-packages)\n",
      "WARNING: Ignoring invalid distribution -umpy (c:\\users\\1tin\\anaconda3\\lib\\site-packages)\n",
      "WARNING: Ignoring invalid distribution -umpy (c:\\users\\1tin\\anaconda3\\lib\\site-packages)\n",
      "WARNING: Ignoring invalid distribution -umpy (c:\\users\\1tin\\anaconda3\\lib\\site-packages)\n",
      "WARNING: You are using pip version 21.2.2; however, version 23.0 is available.\n",
      "You should consider upgrading via the 'c:\\users\\1tin\\anaconda3\\python.exe -m pip install --upgrade pip' command.\n"
     ]
    },
    {
     "name": "stdout",
     "output_type": "stream",
     "text": [
      "\n"
     ]
    }
   ],
   "source": [
    "!pip install docx2txt"
   ]
  },
  {
   "cell_type": "code",
   "execution_count": 79,
   "metadata": {},
   "outputs": [],
   "source": [
    "import docx2txt"
   ]
  },
  {
   "cell_type": "code",
   "execution_count": 80,
   "metadata": {},
   "outputs": [
    {
     "name": "stdout",
     "output_type": "stream",
     "text": [
      "Requirement already satisfied: PyPDF2 in c:\\users\\1tin\\anaconda3\\lib\\site-packages (3.0.1)\n",
      "Requirement already satisfied: typing_extensions>=3.10.0.0 in c:\\users\\1tin\\anaconda3\\lib\\site-packages (from PyPDF2) (4.4.0)\n"
     ]
    },
    {
     "name": "stderr",
     "output_type": "stream",
     "text": [
      "WARNING: Ignoring invalid distribution -umpy (c:\\users\\1tin\\anaconda3\\lib\\site-packages)\n",
      "WARNING: Ignoring invalid distribution -umpy (c:\\users\\1tin\\anaconda3\\lib\\site-packages)\n",
      "WARNING: Ignoring invalid distribution -umpy (c:\\users\\1tin\\anaconda3\\lib\\site-packages)\n",
      "WARNING: Ignoring invalid distribution -umpy (c:\\users\\1tin\\anaconda3\\lib\\site-packages)\n",
      "WARNING: Ignoring invalid distribution -umpy (c:\\users\\1tin\\anaconda3\\lib\\site-packages)\n",
      "WARNING: Ignoring invalid distribution -umpy (c:\\users\\1tin\\anaconda3\\lib\\site-packages)\n",
      "WARNING: You are using pip version 21.2.2; however, version 23.0 is available.\n",
      "You should consider upgrading via the 'c:\\users\\1tin\\anaconda3\\python.exe -m pip install --upgrade pip' command.\n"
     ]
    }
   ],
   "source": [
    "!pip install PyPDF2"
   ]
  },
  {
   "cell_type": "code",
   "execution_count": 81,
   "metadata": {},
   "outputs": [
    {
     "name": "stdout",
     "output_type": "stream",
     "text": [
      "1\n",
      "2\n"
     ]
    }
   ],
   "source": [
    "import PyPDF2\n",
    "# pdf file object\n",
    "# you can find find the pdf file with complete code in below\n",
    "pdfFileObj1 = open(\"BharathKumarRedd...'s Resume(9).pdf\", 'rb')\n",
    "pdfFileObj2 = open(\"AI NLP Engineer (3).pdf\", 'rb')\n",
    "# pdf reader object\n",
    "pdfReader1 = PyPDF2.PdfReader(pdfFileObj1)\n",
    "pdfReader2= PyPDF2.PdfReader(pdfFileObj2)\n",
    "# number of pages in pdf\n",
    "print((len(pdfReader1.pages)))\n",
    "print((len(pdfReader2.pages)))\n",
    "# a page object\n",
    "pageObj1=pdfReader1.pages[0]\n",
    "pageObj2=pdfReader2.pages[0]\n",
    "pageObj3=pdfReader2.pages[1]\n",
    "#pageObj = pdfReader.getPage(0)\n",
    "# extracting text from page.\n",
    "# this will print the text you can also save that into String\n",
    "#print(pageObj.extract_text())"
   ]
  },
  {
   "cell_type": "code",
   "execution_count": 82,
   "metadata": {},
   "outputs": [],
   "source": [
    "content1=pageObj1.extract_text()\n",
    "content2=pageObj2.extract_text()\n",
    "content3=pageObj3.extract_text()"
   ]
  },
  {
   "cell_type": "code",
   "execution_count": 83,
   "metadata": {},
   "outputs": [
    {
     "name": "stdout",
     "output_type": "stream",
     "text": [
      "BharathKumarReddy Reegatipalli \n",
      "Programmer | Machine Learning Engineer \n",
      "A motivated individual with in-depth knowledge of languages and development tools, seeking a\n",
      "position in a growth-oriented company where I can use my skills to the advantage of the company\n",
      "while having the scope to develop my own skills \n",
      "bharathreddy.reegatipalli@g\n",
      "mail.com \n",
      "9959202744 \n",
      "ANATAPUR, India \n",
      "linkedin.com/in/reegatipalli-\n",
      "bharathkumarreddy-\n",
      "96450b207 \n",
      "github.com/kumar12219218 \n",
      "SKILLS \n",
      "Python \n",
      "Machine Learning \n",
      "NLP \n",
      "Deep Learning \n",
      "Data Structure \n",
      "Algorithms \n",
      "MYSQL \n",
      "Java \n",
      "C \n",
      "HTML \n",
      "CSS \n",
      "Angular \n",
      "JavaScript \n",
      "LANGUAGES \n",
      "English \n",
      "Professional Working Proﬁciency \n",
      "Telugu \n",
      "Full Professional Proﬁciency \n",
      "STRENGTHS \n",
      "Problem Solving \n",
      "Quick Learner \n",
      "Leadership \n",
      "EDUCATION \n",
      "Bachelor of Technology \n",
      "Madanapalle Institute of Technology and Science \n",
      "06/2018 - 06/2022\n",
      ", \n",
      " \n",
      "Computer Science and\n",
      "Engineering(8.8CGPA) \n",
      "Intermediate \n",
      "Sri Chaitanya College \n",
      "06/2016 - 05/2018\n",
      ", \n",
      " \n",
      "MPC-97.4% \n",
      "WORK EXPERIENCE \n",
      "Machine Learning Intern \n",
      "Refactor Academy \n",
      "10/2022 - 01/2023\n",
      ", \n",
      " \n",
      "Developed a Linear Regression model to predict the best model which gives high accuracy and\n",
      "identifying the features which are more important \n",
      "Developed many ML models like Diabetes Prediction, Spam Mail prediction, Fake News\n",
      "Prediction, Heart Disease Prediction, etc. \n",
      "and deployed some of them publicly \n",
      "Full Stack Intern \n",
      "Wipro \n",
      "03/2022 - 06/2022\n",
      ", \n",
      " \n",
      "Food Box : Food Box is a dynamic and responsive online food delivery web application for\n",
      "ordering food items of diﬀerent cuisines from a restaurant. Java, Angular, JS, HTML, CSS, Spring\n",
      "Boot, etc. are used \n",
      "PERSONAL PROJECTS \n",
      "Image Captioning using attention models \n",
      "Image caption generator is a process of recognizing the context of an image and annotating it with relevant\n",
      "captions using deep learning, and computer vision. It uses CNN(Resnet50) and RNN(LSTM) \n",
      "Breast Cancer Classiﬁcation using Machine Learning \n",
      "In this Machine Learning project ,model will analyze and classify Breast Cancer(Malignant or Benign). In this\n",
      "Project Logistic Regression is used \n",
      "Movie Recommender System \n",
      "The goal of movie recommendation systems is to ﬁlter and predict only those movies that a corresponding user is\n",
      "most likely \n",
      "want to watch \n",
      "Bangalore House Price Prediction \n",
      "In this machine learning project ,we developed a model in such a way that it will predict the price of the house\n",
      "based on the area, number of bed rooms and bathroom \n",
      "CERTIFICATES \n",
      "Completed a 6 week course on “AI for Everyone” from Coursera. \n",
      "Completed a 7 week course on ”Python for Every Body” from Coursera \n",
      "Projects \n",
      "Project \n"
     ]
    }
   ],
   "source": [
    "print(content1)"
   ]
  },
  {
   "cell_type": "code",
   "execution_count": 84,
   "metadata": {},
   "outputs": [
    {
     "name": "stdout",
     "output_type": "stream",
     "text": [
      "Information Systems Pvt. Ltd.  \n",
      "Technology for building smarter products and services, one interaction at a time.  \n",
      " \n",
      "AI NLP Engineer  \n",
      "About US:  \n",
      "Light Information Systems has been a pioneer (Since 2012) in Natural Language Processing & AI  with \n",
      "more than 200 Man years of RnD.  We have been recognized internationally for our efforts in the field \n",
      "through awards and patents.     \n",
      "Light Information System's E42.ai  Cognitive Process Automation (CPA) platform combines  deep tech in \n",
      "AI NLP with Powerful UI and empower Subject Matter Experts to easily create the NLP -Bots to automate \n",
      "processes across enterprise verticals and functions.   \n",
      "Human -like cognition provided by Multi -functional Cognitive Agents or NLP -Bots at enter prise scale.   \n",
      "Website : https://e42.ai/  \n",
      "Linkedin:  https://www.linkedin.com/company/e42dotai/  \n",
      " \n",
      "Position: Permanent  \n",
      "Role: AI NLP Engineer   \n",
      "Experience: 0 -5 years  \n",
      " \n",
      "Your Interest:  \n",
      "Are you looking to play a key role in the AI revolution?   \n",
      "Are you willing to roll up your sleeves and contribute your skills to creating the world's most powerful AI \n",
      "NLP platform that produces AI workforce for the industry?   \n",
      "Are you ready to  take heat from mortals who are seeing their jobs being replaced by Cognitive Process \n",
      "Automation?    \n",
      "If you are all of the above with a drive and join a team working on a Moonshot Product and rely on your \n",
      "Analytical and Logical Skills NLPBots is the Product  you need to be working on.  \n",
      " \n",
      " \n",
      "Skills We Are Looking For:  \n",
      " \n",
      "● Expert in Python.  \n",
      "● Exp in Neural Networks, Natural Language Processing concepts and Algorithms.  \n",
      "● Must have exp  in text processing, intent classification, name entity recognition etc..  \n",
      "● Remuneration commensurate with experience ( Preferred m inimum 2 years)  \n",
      " \n"
     ]
    }
   ],
   "source": [
    "print(content2)"
   ]
  },
  {
   "cell_type": "code",
   "execution_count": 85,
   "metadata": {},
   "outputs": [],
   "source": [
    "content=[content1,content2+content3]"
   ]
  },
  {
   "cell_type": "code",
   "execution_count": 86,
   "metadata": {},
   "outputs": [],
   "source": [
    "from sklearn.feature_extraction.text import CountVectorizer\n",
    "cv=CountVectorizer()\n",
    "matrix=cv.fit_transform(content)"
   ]
  },
  {
   "cell_type": "code",
   "execution_count": 87,
   "metadata": {},
   "outputs": [],
   "source": [
    "from sklearn.metrics.pairwise import cosine_similarity\n",
    "similarity_matrix=cosine_similarity(matrix)"
   ]
  },
  {
   "cell_type": "code",
   "execution_count": 88,
   "metadata": {},
   "outputs": [
    {
     "name": "stdout",
     "output_type": "stream",
     "text": [
      "[[1.         0.46490911]\n",
      " [0.46490911 1.        ]]\n"
     ]
    }
   ],
   "source": [
    "print(similarity_matrix)"
   ]
  },
  {
   "cell_type": "code",
   "execution_count": 89,
   "metadata": {},
   "outputs": [
    {
     "name": "stdout",
     "output_type": "stream",
     "text": [
      "Resume matches by: 46.49091135217548\n"
     ]
    }
   ],
   "source": [
    "print(\"Resume matches by: \"+str(similarity_matrix[1][0]*100))"
   ]
  },
  {
   "cell_type": "code",
   "execution_count": null,
   "metadata": {},
   "outputs": [],
   "source": []
  },
  {
   "cell_type": "code",
   "execution_count": null,
   "metadata": {},
   "outputs": [],
   "source": []
  }
 ],
 "metadata": {
  "kernelspec": {
   "display_name": "Python 3",
   "language": "python",
   "name": "python3"
  },
  "language_info": {
   "codemirror_mode": {
    "name": "ipython",
    "version": 3
   },
   "file_extension": ".py",
   "mimetype": "text/x-python",
   "name": "python",
   "nbconvert_exporter": "python",
   "pygments_lexer": "ipython3",
   "version": "3.8.3"
  }
 },
 "nbformat": 4,
 "nbformat_minor": 4
}
